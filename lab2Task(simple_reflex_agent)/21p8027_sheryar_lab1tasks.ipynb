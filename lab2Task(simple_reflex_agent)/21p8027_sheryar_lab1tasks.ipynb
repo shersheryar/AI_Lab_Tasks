{
 "cells": [
  {
   "cell_type": "code",
   "execution_count": 7,
   "id": "3fb1e8e4-b2e0-4797-bc3e-1a09908ec64e",
   "metadata": {},
   "outputs": [
    {
     "name": "stdin",
     "output_type": "stream",
     "text": [
      "what is the condition? everything good\n"
     ]
    },
    {
     "name": "stdout",
     "output_type": "stream",
     "text": [
      "remain in normal state\n"
     ]
    }
   ],
   "source": [
    "# task 1\n",
    "\n",
    "percept = [\"smoke\", \"high temperature\", \"everything good\"]\n",
    "state = [\"smoke detected\" , \"high temperature detected\",\"neither smoke nor high temperature detected\"]\n",
    "rules = [\"alarm and sprinkle system will activate\", \"alarm and call fire department\", \"remain in normal state\"]\n",
    "\n",
    "def getState(percept_value):\n",
    "    index = -1\n",
    "    for x in percept:\n",
    "        index = index+1\n",
    "        if x == percept_value:\n",
    "            return state[index]\n",
    "\n",
    "def getRules(state_value):\n",
    "    index = -1\n",
    "    for i in state:\n",
    "        index = index + 1\n",
    "        if i == state_value:\n",
    "            return rules[index]\n",
    "\n",
    "def simpleReflexAgent(percep):\n",
    "    return getRules(getState(percep))\n",
    "\n",
    "visual_input = input(\"what is the condition?\")\n",
    "rule = simpleReflexAgent(visual_input)\n",
    "print(rule)"
   ]
  },
  {
   "cell_type": "code",
   "execution_count": 10,
   "id": "1ee3f3d9-36dc-44f4-84d3-6009f368428e",
   "metadata": {},
   "outputs": [
    {
     "name": "stdin",
     "output_type": "stream",
     "text": [
      "what is the soil condition? dry soil\n"
     ]
    },
    {
     "name": "stdout",
     "output_type": "stream",
     "text": [
      "activate watering system\n"
     ]
    }
   ],
   "source": [
    "# task 2\n",
    "\n",
    "percept = [\"dry soil\", \"moist soil\", \"wet soil\"]\n",
    "state = [\"detect dry soil\", \"detect moist soil\", \"detect wet soil\"]\n",
    "rules = [\"activate watering system\", \"keep watering system off\", \"deactivated watering system\"]\n",
    "\n",
    "def getState(percept_value):\n",
    "    index = -1\n",
    "    for x in percept:\n",
    "        index = index + 1\n",
    "        if x == percept_value:\n",
    "            return state[index]\n",
    "\n",
    "def getRules(state_value):\n",
    "    index = -1\n",
    "    for i in state:\n",
    "        index  = index + 1\n",
    "        if i == state_value:\n",
    "            return rules[index]\n",
    "\n",
    "def SimpleReflexAgent(percep):\n",
    "    return getRules(getState(percep))\n",
    "\n",
    "\n",
    "visual_input = input(\"what is the soil condition?\")\n",
    "rule = SimpleReflexAgent(visual_input)\n",
    "print(rule)\n"
   ]
  },
  {
   "cell_type": "code",
   "execution_count": null,
   "id": "9ba66060-3678-4284-85c7-68c1bbcc7f2a",
   "metadata": {},
   "outputs": [],
   "source": []
  }
 ],
 "metadata": {
  "kernelspec": {
   "display_name": "Python 3 (ipykernel)",
   "language": "python",
   "name": "python3"
  },
  "language_info": {
   "codemirror_mode": {
    "name": "ipython",
    "version": 3
   },
   "file_extension": ".py",
   "mimetype": "text/x-python",
   "name": "python",
   "nbconvert_exporter": "python",
   "pygments_lexer": "ipython3",
   "version": "3.11.6"
  }
 },
 "nbformat": 4,
 "nbformat_minor": 5
}
