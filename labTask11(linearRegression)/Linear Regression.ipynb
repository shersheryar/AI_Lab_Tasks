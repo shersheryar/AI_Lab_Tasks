{
 "cells": [
  {
   "cell_type": "markdown",
   "id": "276a16ac-f738-42aa-bc02-476d3a08a754",
   "metadata": {},
   "source": [
    "### Linear Regression"
   ]
  },
  {
   "cell_type": "markdown",
   "id": "e786eab1-b974-4cbd-806c-f69cf6a9f469",
   "metadata": {},
   "source": [
    "##### Linear regression models are a good starting point for regression tasks. Such models are popular because they can be fit quickly and are straightforward to interpret. You are already familiar with the simplest form of linear regression model (i.e., fitting a straight line to two-dimensional data), but such models can be extended to model more complicated data behavior."
   ]
  },
  {
   "cell_type": "markdown",
   "id": "7fc715c2-108a-435e-be4f-0fe3ffbbb4f0",
   "metadata": {},
   "source": [
    "#### We begin with the standard imports:"
   ]
  },
  {
   "cell_type": "code",
   "execution_count": 1,
   "id": "595bd6a8-606b-4919-b893-dab0528463ee",
   "metadata": {},
   "outputs": [],
   "source": [
    "# Importing necessary libraries\n",
    "import numpy as np\n",
    "from sklearn.model_selection import train_test_split\n",
    "from sklearn.linear_model import LinearRegression\n",
    "from sklearn.metrics import mean_squared_error"
   ]
  },
  {
   "cell_type": "markdown",
   "id": "01ef5ac4-87d2-4412-ad24-22c8b1ec5f53",
   "metadata": {},
   "source": [
    "### Simple Linear Regression"
   ]
  },
  {
   "cell_type": "markdown",
   "id": "c34aa01f-b55b-4a4c-a390-d57315aa0c75",
   "metadata": {},
   "source": [
    "#### We will start with the most familiar linear regression, a straight-line fit to data. A straight-line fit is a model of the form: y=ax+b where a is commonly known as the slope, and b is commonly known as the intercept."
   ]
  },
  {
   "cell_type": "code",
   "execution_count": 2,
   "id": "6ef483d5-26be-4f50-a57d-dc5811b203a8",
   "metadata": {},
   "outputs": [],
   "source": [
    "# Sample data\n",
    "X = np.array([[1], [2], [3], [4], [5],[6],[7],[8],[9],[10]])\n",
    "y = np.array([2, 4, 6, 8, 10,12,14,16,18,20])\n",
    "\n",
    "# Splitting the data into training and testing sets\n",
    "X_train, X_test, y_train, y_test = train_test_split(X, y, test_size=0.2, random_state=3)"
   ]
  },
  {
   "cell_type": "markdown",
   "id": "fad08751-165b-4551-bf0b-9cb8631d7df7",
   "metadata": {},
   "source": [
    "#### We can use Scikit-Learn's LinearRegression estimator to fit this data and construct the best-fit line, "
   ]
  },
  {
   "cell_type": "code",
   "execution_count": 3,
   "id": "d4a15421-a888-449a-a64f-ec3c51157dfc",
   "metadata": {},
   "outputs": [
    {
     "name": "stdout",
     "output_type": "stream",
     "text": [
      "Mean Squared Error: 1.5777218104420236e-30\n"
     ]
    }
   ],
   "source": [
    "# Creating and fitting the model\n",
    "model = LinearRegression()\n",
    "model.fit(X_train, y_train)\n",
    "\n",
    "# Making predictions\n",
    "y_pred = model.predict(X_test)\n",
    "\n",
    "# Model evaluation\n",
    "mse = mean_squared_error(y_test, y_pred)\n",
    "\n",
    "print(\"Mean Squared Error:\", mse)"
   ]
  },
  {
   "cell_type": "markdown",
   "id": "06689efa-f4e9-4b18-8a55-fa8a129f98e0",
   "metadata": {},
   "source": [
    "The slope and intercept of the data are contained in the model's fit parameters, which in Scikit-Learn are always marked by a trailing underscore. Here the relevant parameters are coef_ and intercept_:"
   ]
  },
  {
   "cell_type": "code",
   "execution_count": 4,
   "id": "6ad06b4d-fd5e-4e6c-85e8-971977e57392",
   "metadata": {},
   "outputs": [
    {
     "name": "stdout",
     "output_type": "stream",
     "text": [
      "Slope: 1.9999999999999991\n",
      "Y-intercept: 5.329070518200751e-15\n"
     ]
    }
   ],
   "source": [
    "slope = model.coef_[0]\n",
    "y_intercept = model.intercept_\n",
    "\n",
    "print(\"Slope:\", slope)\n",
    "print(\"Y-intercept:\", y_intercept)\n"
   ]
  },
  {
   "cell_type": "code",
   "execution_count": 5,
   "id": "ae9cb0e3-7878-48e9-a825-4e992f376cea",
   "metadata": {},
   "outputs": [
    {
     "name": "stdout",
     "output_type": "stream",
     "text": [
      "[12. 10.]\n"
     ]
    }
   ],
   "source": [
    "print(y_pred)"
   ]
  },
  {
   "cell_type": "code",
   "execution_count": null,
   "id": "5d37bb77-597f-4853-be4e-b30b6dd2bc93",
   "metadata": {},
   "outputs": [],
   "source": []
  },
  {
   "cell_type": "code",
   "execution_count": null,
   "id": "3c1a72fd-b8da-433f-957c-c0720e7d298f",
   "metadata": {},
   "outputs": [],
   "source": []
  },
  {
   "cell_type": "code",
   "execution_count": null,
   "id": "bc978ef4-ecd0-4cf8-8d3a-b95d17320841",
   "metadata": {},
   "outputs": [],
   "source": []
  }
 ],
 "metadata": {
  "kernelspec": {
   "display_name": "Python 3 (ipykernel)",
   "language": "python",
   "name": "python3"
  },
  "language_info": {
   "codemirror_mode": {
    "name": "ipython",
    "version": 3
   },
   "file_extension": ".py",
   "mimetype": "text/x-python",
   "name": "python",
   "nbconvert_exporter": "python",
   "pygments_lexer": "ipython3",
   "version": "3.11.6"
  }
 },
 "nbformat": 4,
 "nbformat_minor": 5
}
