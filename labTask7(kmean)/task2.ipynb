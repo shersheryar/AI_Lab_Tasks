{
 "cells": [
  {
   "cell_type": "code",
   "execution_count": null,
   "id": "e098d611-b762-48f7-beed-e15d5ffb8230",
   "metadata": {},
   "outputs": [],
   "source": []
  }
 ],
 "metadata": {
  "kernelspec": {
   "display_name": "",
   "name": ""
  },
  "language_info": {
   "name": ""
  }
 },
 "nbformat": 4,
 "nbformat_minor": 5
}
