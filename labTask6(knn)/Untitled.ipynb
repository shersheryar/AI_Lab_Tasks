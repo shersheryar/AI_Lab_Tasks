{
 "cells": [
  {
   "cell_type": "code",
   "execution_count": 2,
   "id": "fa85c85f-8bf7-4448-bce1-cc9c09dd85eb",
   "metadata": {},
   "outputs": [],
   "source": [
    "import math\n",
    "\n",
    "def euclidean_distance(x1, x2):\n",
    "    \"\"\"Compute the Euclidean distance between two vectors.\"\"\"\n",
    "    return math.sqrt(sum((x1 - x2) ** 2))\n",
    "\n",
    "class KNNClassifier:\n",
    "    \"\"\"k-NN classifier.\"\"\"\n",
    "\n",
    "    def __init__(self, k=3):\n",
    "        \"\"\"Initialize the classifier with k=3.\"\"\"\n",
    "        self.k = k\n",
    "\n",
    "    def fit(self, X, y):\n",
    "        \"\"\"Fit the classifier to the training data.\"\"\"\n",
    "        self.X_train = X\n",
    "        self.y_train = y\n",
    "\n",
    "    def predict(self, X):\n",
    "        \"\"\"Predict the labels of the test data.\"\"\"\n",
    "        y_pred = []\n",
    "        for x in X:\n",
    "            # Compute the distances between the test point and all training points\n",
    "            distances = [euclidean_distance(x, x_train) for x_train in self.X_train]\n",
    "            # Sort the distances and get the indices of the k nearest neighbors\n",
    "            k_indices = sorted(range(len(distances)), key=lambda i: distances[i])[:self.k]\n",
    "            # Get the labels of the k nearest neighbors\n",
    "            k_labels = [self.y_train[i] for i in k_indices]\n",
    "            # Compute the mode of the k nearest labels\n",
    "            mode_label = max(set(k_labels), key=k_labels.count)\n",
    "            # Add the predicted label to the list of predictions\n",
    "            y_pred.append(mode_label)\n",
    "        return np.array(y_pred)\n",
    "\n",
    "# Example usage\n",
    "import numpy as np\n",
    "\n",
    "X = np.array([[1, 2], [2, 3], [3, 1], [4, 5], [5, 6]])\n",
    "y = np.array([0, 0, 1, 1, 1])\n",
    "\n",
    "knn = KNNClassifier(k=3)\n",
    "knn.fit(X, y)\n",
    "\n",
    "X_test = np.array([[2, 3]])"
   ]
  },
  {
   "cell_type": "code",
   "execution_count": null,
   "id": "90dee6d0-a777-494a-9e43-ee05e3df537a",
   "metadata": {},
   "outputs": [],
   "source": []
  }
 ],
 "metadata": {
  "kernelspec": {
   "display_name": "Python 3 (ipykernel)",
   "language": "python",
   "name": "python3"
  },
  "language_info": {
   "codemirror_mode": {
    "name": "ipython",
    "version": 3
   },
   "file_extension": ".py",
   "mimetype": "text/x-python",
   "name": "python",
   "nbconvert_exporter": "python",
   "pygments_lexer": "ipython3",
   "version": "3.11.6"
  }
 },
 "nbformat": 4,
 "nbformat_minor": 5
}
